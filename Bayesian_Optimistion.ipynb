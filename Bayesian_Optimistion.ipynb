{
  "nbformat": 4,
  "nbformat_minor": 0,
  "metadata": {
    "colab": {
      "name": "Bayesian_Optimistion.ipynb",
      "provenance": [],
      "collapsed_sections": []
    },
    "kernelspec": {
      "name": "python3",
      "display_name": "Python 3"
    },
    "language_info": {
      "name": "python"
    }
  },
  "cells": [
    {
      "cell_type": "markdown",
      "metadata": {
        "id": "gjyzgUQElMAC"
      },
      "source": [
        "# Bayesian Optimization"
      ]
    },
    {
      "cell_type": "code",
      "metadata": {
        "id": "LWmdrxINn2qx"
      },
      "source": [
        "X_train,X_test,Y_train,Y_test=train_test_split(df_clean.drop(['encode_diag'],axis='columns') ,df_clean['encode_diag'],test_size=0.27,random_state=0)"
      ],
      "execution_count": null,
      "outputs": []
    },
    {
      "cell_type": "code",
      "metadata": {
        "id": "-jLzbWY5nXB6"
      },
      "source": [
        "from hpsklearn import HyperoptEstimator,any_classifier,any_preprocessing\n",
        "from hyperopt import tpe\n",
        "hpts=HyperoptEstimator(classifier=any_classifier('clf'),preprocessing=any_preprocessing('pre'),algo=tpe.suggest,max_evals=10)"
      ],
      "execution_count": null,
      "outputs": []
    },
    {
      "cell_type": "code",
      "metadata": {
        "id": "JOyWMSdewnqh",
        "colab": {
          "base_uri": "https://localhost:8080/"
        },
        "outputId": "5678f252-d954-4396-82b9-c7245dfcea0e"
      },
      "source": [
        "hpts.fit(X_train,Y_train)"
      ],
      "execution_count": null,
      "outputs": [
        {
          "output_type": "stream",
          "text": [
            "100%|██████████| 1/1 [00:00<00:00,  1.19it/s, best loss: 0.0]\n",
            "100%|██████████| 1/1 [00:00<00:00,  4.77it/s, best loss: 0.0]\n",
            "100%|██████████| 1/1 [00:00<00:00, 10.90it/s, best loss: 0.0]\n",
            "100%|██████████| 1/1 [00:01<00:00,  1.62s/it, best loss: 0.0]\n",
            "100%|██████████| 1/1 [00:00<00:00,  1.34it/s, best loss: 0.0]\n",
            "100%|██████████| 1/1 [00:03<00:00,  3.07s/it, best loss: 0.0]\n",
            "100%|██████████| 1/1 [00:00<00:00,  7.59it/s, best loss: 0.0]\n",
            "100%|██████████| 1/1 [00:03<00:00,  3.54s/it, best loss: 0.0]\n",
            "100%|██████████| 1/1 [00:03<00:00,  3.28s/it, best loss: 0.0]\n",
            "100%|██████████| 1/1 [00:04<00:00,  4.14s/it, best loss: 0.0]\n"
          ],
          "name": "stdout"
        }
      ]
    },
    {
      "cell_type": "code",
      "metadata": {
        "id": "pqDp2pcG3RBN",
        "colab": {
          "base_uri": "https://localhost:8080/"
        },
        "outputId": "f5db8aee-9b10-4a94-e7b6-e0d63ff90281"
      },
      "source": [
        "hpts.best_model()"
      ],
      "execution_count": null,
      "outputs": [
        {
          "output_type": "execute_result",
          "data": {
            "text/plain": [
              "{'ex_preprocs': (),\n",
              " 'learner': GradientBoostingClassifier(ccp_alpha=0.0, criterion='friedman_mse', init=None,\n",
              "                            learning_rate=0.05198358745604793, loss='deviance',\n",
              "                            max_depth=None, max_features=0.7289762193644673,\n",
              "                            max_leaf_nodes=None, min_impurity_decrease=0.0,\n",
              "                            min_impurity_split=None, min_samples_leaf=2,\n",
              "                            min_samples_split=2, min_weight_fraction_leaf=0.0,\n",
              "                            n_estimators=360, n_iter_no_change=None,\n",
              "                            presort='deprecated', random_state=1, subsample=1.0,\n",
              "                            tol=0.0001, validation_fraction=0.1, verbose=0,\n",
              "                            warm_start=False),\n",
              " 'preprocs': (PCA(copy=True, iterated_power='auto', n_components=31, random_state=None,\n",
              "      svd_solver='auto', tol=0.0, whiten=False),)}"
            ]
          },
          "metadata": {
            "tags": []
          },
          "execution_count": 94
        }
      ]
    },
    {
      "cell_type": "code",
      "metadata": {
        "id": "hwZRmCLoNy01",
        "colab": {
          "base_uri": "https://localhost:8080/"
        },
        "outputId": "2d054ab2-ccc8-4c33-89a2-c6bf43cc920b"
      },
      "source": [
        "gbc=GradientBoostingClassifier(ccp_alpha=0.0, criterion='friedman_mse', init=None,\n",
        "                            learning_rate=0.014642752253745811, loss='deviance',\n",
        "                            max_depth=None, max_features='sqrt',\n",
        "                            max_leaf_nodes=None, min_impurity_decrease=0.0,\n",
        "                            min_impurity_split=None, min_samples_leaf=1,\n",
        "                            min_samples_split=2, min_weight_fraction_leaf=0.0,\n",
        "                            n_estimators=102, n_iter_no_change=None,\n",
        "                            presort='deprecated', random_state=3,\n",
        "                            subsample=0.6217813737448401, tol=0.0001,\n",
        "                            validation_fraction=0.1, verbose=0,\n",
        "                            warm_start=False)\n",
        "gbc.fit(X_train,Y_train)"
      ],
      "execution_count": null,
      "outputs": [
        {
          "output_type": "execute_result",
          "data": {
            "text/plain": [
              "GradientBoostingClassifier(ccp_alpha=0.0, criterion='friedman_mse', init=None,\n",
              "                           learning_rate=0.014642752253745811, loss='deviance',\n",
              "                           max_depth=None, max_features='sqrt',\n",
              "                           max_leaf_nodes=None, min_impurity_decrease=0.0,\n",
              "                           min_impurity_split=None, min_samples_leaf=1,\n",
              "                           min_samples_split=2, min_weight_fraction_leaf=0.0,\n",
              "                           n_estimators=102, n_iter_no_change=None,\n",
              "                           presort='deprecated', random_state=3,\n",
              "                           subsample=0.6217813737448401, tol=0.0001,\n",
              "                           validation_fraction=0.1, verbose=0,\n",
              "                           warm_start=False)"
            ]
          },
          "metadata": {
            "tags": []
          },
          "execution_count": 95
        }
      ]
    },
    {
      "cell_type": "code",
      "metadata": {
        "id": "lKhW8OxLODz3"
      },
      "source": [
        "y_pred6=gbc.predict(X_test)"
      ],
      "execution_count": null,
      "outputs": []
    },
    {
      "cell_type": "code",
      "metadata": {
        "id": "oyHNGjFYOJK9",
        "colab": {
          "base_uri": "https://localhost:8080/"
        },
        "outputId": "7ddd56f7-9bca-4486-96a2-81fa9649cc73"
      },
      "source": [
        "gbc.score(X_test,Y_test)"
      ],
      "execution_count": null,
      "outputs": [
        {
          "output_type": "execute_result",
          "data": {
            "text/plain": [
              "1.0"
            ]
          },
          "metadata": {
            "tags": []
          },
          "execution_count": 97
        }
      ]
    },
    {
      "cell_type": "code",
      "metadata": {
        "id": "WM7MXroSOMjy",
        "colab": {
          "base_uri": "https://localhost:8080/"
        },
        "outputId": "dfd1e925-9968-4724-e9f9-b7b69fb44ace"
      },
      "source": [
        "print(classification_report(Y_test,y_pred6))"
      ],
      "execution_count": null,
      "outputs": [
        {
          "output_type": "stream",
          "text": [
            "              precision    recall  f1-score   support\n",
            "\n",
            "           0       1.00      1.00      1.00        99\n",
            "           1       1.00      1.00      1.00        55\n",
            "\n",
            "    accuracy                           1.00       154\n",
            "   macro avg       1.00      1.00      1.00       154\n",
            "weighted avg       1.00      1.00      1.00       154\n",
            "\n"
          ],
          "name": "stdout"
        }
      ]
    },
    {
      "cell_type": "code",
      "metadata": {
        "id": "mmI14LSkOYkE",
        "colab": {
          "base_uri": "https://localhost:8080/"
        },
        "outputId": "6c277ef0-824b-48f4-ca9c-4cde6ed7480d"
      },
      "source": [
        "print(confusion_matrix(Y_test,y_pred6))"
      ],
      "execution_count": null,
      "outputs": [
        {
          "output_type": "stream",
          "text": [
            "[[99  0]\n",
            " [ 0 55]]\n"
          ],
          "name": "stdout"
        }
      ]
    },
    {
      "cell_type": "code",
      "metadata": {
        "colab": {
          "base_uri": "https://localhost:8080/",
          "height": 282
        },
        "id": "rEJY2Qq2aaiM",
        "outputId": "0e5eb716-6a54-4d23-ad59-eb4c56f29f00"
      },
      "source": [
        "sn.heatmap(confusion_matrix(Y_test,y_pred6),annot=True)"
      ],
      "execution_count": null,
      "outputs": [
        {
          "output_type": "execute_result",
          "data": {
            "text/plain": [
              "<matplotlib.axes._subplots.AxesSubplot at 0x7fb117e4aa50>"
            ]
          },
          "metadata": {
            "tags": []
          },
          "execution_count": 100
        },
        {
          "output_type": "display_data",
          "data": {
            "image/png": "[encoded data removed]",
            "text/plain": [
              "<Figure size 432x288 with 2 Axes>"
            ]
          },
          "metadata": {
            "tags": [],
            "needs_background": "light"
          }
        }
      ]
    }
  ]
}