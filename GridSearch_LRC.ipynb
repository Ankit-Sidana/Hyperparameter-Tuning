{
  "nbformat": 4,
  "nbformat_minor": 0,
  "metadata": {
    "colab": {
      "name": "GridSearch_LRC.ipynb",
      "provenance": [],
      "collapsed_sections": []
    },
    "kernelspec": {
      "name": "python3",
      "display_name": "Python 3"
    },
    "language_info": {
      "name": "python"
    }
  },
  "cells": [
    {
      "cell_type": "markdown",
      "metadata": {
        "id": "sRHcPwu1Wqob"
      },
      "source": [
        "# GridSearchCV LogisticRegression"
      ]
    },
    {
      "cell_type": "code",
      "metadata": {
        "id": "p2BsCks1WwKB",
        "colab": {
          "base_uri": "https://localhost:8080/"
        },
        "outputId": "3752e16f-dfa6-4969-dec9-510143b0bdd0"
      },
      "source": [
        "from sklearn.model_selection import GridSearchCV\n",
        "reg=GridSearchCV(LogisticRegression(),{'C':[1,5,10]},cv=5,return_train_score='False')\n",
        "reg.fit(x,y)"
      ],
      "execution_count": null,
      "outputs": [
        {
          "output_type": "execute_result",
          "data": {
            "text/plain": [
              "GridSearchCV(cv=5, error_score=nan,\n",
              "             estimator=LogisticRegression(C=1.0, class_weight=None, dual=False,\n",
              "                                          fit_intercept=True,\n",
              "                                          intercept_scaling=1, l1_ratio=None,\n",
              "                                          max_iter=100, multi_class='auto',\n",
              "                                          n_jobs=None, penalty='l2',\n",
              "                                          random_state=None, solver='lbfgs',\n",
              "                                          tol=0.0001, verbose=0,\n",
              "                                          warm_start=False),\n",
              "             iid='deprecated', n_jobs=None, param_grid={'C': [1, 5, 10]},\n",
              "             pre_dispatch='2*n_jobs', refit=True, return_train_score='False',\n",
              "             scoring=None, verbose=0)"
            ]
          },
          "metadata": {
            "tags": []
          },
          "execution_count": 38
        }
      ]
    },
    {
      "cell_type": "code",
      "metadata": {
        "id": "4aTDJJYDe0Z-",
        "colab": {
          "base_uri": "https://localhost:8080/",
          "height": 178
        },
        "outputId": "5f4c7da6-fd7c-4be9-caee-3339486151ae"
      },
      "source": [
        "df=pd.DataFrame(reg.cv_results_)\n",
        "df"
      ],
      "execution_count": null,
      "outputs": [
        {
          "output_type": "execute_result",
          "data": {
            "text/html": [
              "<div>\n",
              "<style scoped>\n",
              "    .dataframe tbody tr th:only-of-type {\n",
              "        vertical-align: middle;\n",
              "    }\n",
              "\n",
              "    .dataframe tbody tr th {\n",
              "        vertical-align: top;\n",
              "    }\n",
              "\n",
              "    .dataframe thead th {\n",
              "        text-align: right;\n",
              "    }\n",
              "</style>\n",
              "<table border=\"1\" class=\"dataframe\">\n",
              "  <thead>\n",
              "    <tr style=\"text-align: right;\">\n",
              "      <th></th>\n",
              "      <th>mean_fit_time</th>\n",
              "      <th>std_fit_time</th>\n",
              "      <th>mean_score_time</th>\n",
              "      <th>std_score_time</th>\n",
              "      <th>param_C</th>\n",
              "      <th>params</th>\n",
              "      <th>split0_test_score</th>\n",
              "      <th>split1_test_score</th>\n",
              "      <th>split2_test_score</th>\n",
              "      <th>split3_test_score</th>\n",
              "      <th>split4_test_score</th>\n",
              "      <th>mean_test_score</th>\n",
              "      <th>std_test_score</th>\n",
              "      <th>rank_test_score</th>\n",
              "      <th>split0_train_score</th>\n",
              "      <th>split1_train_score</th>\n",
              "      <th>split2_train_score</th>\n",
              "      <th>split3_train_score</th>\n",
              "      <th>split4_train_score</th>\n",
              "      <th>mean_train_score</th>\n",
              "      <th>std_train_score</th>\n",
              "    </tr>\n",
              "  </thead>\n",
              "  <tbody>\n",
              "    <tr>\n",
              "      <th>0</th>\n",
              "      <td>0.042694</td>\n",
              "      <td>0.002259</td>\n",
              "      <td>0.001592</td>\n",
              "      <td>0.000155</td>\n",
              "      <td>1</td>\n",
              "      <td>{'C': 1}</td>\n",
              "      <td>0.929825</td>\n",
              "      <td>0.938596</td>\n",
              "      <td>0.956140</td>\n",
              "      <td>0.947368</td>\n",
              "      <td>0.946903</td>\n",
              "      <td>0.943766</td>\n",
              "      <td>0.008911</td>\n",
              "      <td>2</td>\n",
              "      <td>0.947253</td>\n",
              "      <td>0.940659</td>\n",
              "      <td>0.945055</td>\n",
              "      <td>0.967033</td>\n",
              "      <td>0.947368</td>\n",
              "      <td>0.949474</td>\n",
              "      <td>0.009109</td>\n",
              "    </tr>\n",
              "    <tr>\n",
              "      <th>1</th>\n",
              "      <td>0.046725</td>\n",
              "      <td>0.010466</td>\n",
              "      <td>0.001991</td>\n",
              "      <td>0.000456</td>\n",
              "      <td>5</td>\n",
              "      <td>{'C': 5}</td>\n",
              "      <td>0.947368</td>\n",
              "      <td>0.938596</td>\n",
              "      <td>0.956140</td>\n",
              "      <td>0.912281</td>\n",
              "      <td>0.964602</td>\n",
              "      <td>0.943798</td>\n",
              "      <td>0.017990</td>\n",
              "      <td>1</td>\n",
              "      <td>0.962637</td>\n",
              "      <td>0.947253</td>\n",
              "      <td>0.947253</td>\n",
              "      <td>0.953846</td>\n",
              "      <td>0.945175</td>\n",
              "      <td>0.951233</td>\n",
              "      <td>0.006407</td>\n",
              "    </tr>\n",
              "    <tr>\n",
              "      <th>2</th>\n",
              "      <td>0.044958</td>\n",
              "      <td>0.005220</td>\n",
              "      <td>0.001943</td>\n",
              "      <td>0.000351</td>\n",
              "      <td>10</td>\n",
              "      <td>{'C': 10}</td>\n",
              "      <td>0.947368</td>\n",
              "      <td>0.938596</td>\n",
              "      <td>0.947368</td>\n",
              "      <td>0.912281</td>\n",
              "      <td>0.929204</td>\n",
              "      <td>0.934964</td>\n",
              "      <td>0.013181</td>\n",
              "      <td>3</td>\n",
              "      <td>0.964835</td>\n",
              "      <td>0.942857</td>\n",
              "      <td>0.947253</td>\n",
              "      <td>0.953846</td>\n",
              "      <td>0.940789</td>\n",
              "      <td>0.949916</td>\n",
              "      <td>0.008698</td>\n",
              "    </tr>\n",
              "  </tbody>\n",
              "</table>\n",
              "</div>"
            ],
            "text/plain": [
              "   mean_fit_time  std_fit_time  ...  mean_train_score  std_train_score\n",
              "0       0.042694      0.002259  ...          0.949474         0.009109\n",
              "1       0.046725      0.010466  ...          0.951233         0.006407\n",
              "2       0.044958      0.005220  ...          0.949916         0.008698\n",
              "\n",
              "[3 rows x 21 columns]"
            ]
          },
          "metadata": {
            "tags": []
          },
          "execution_count": 39
        }
      ]
    },
    {
      "cell_type": "code",
      "metadata": {
        "id": "5Wmx421ufF4y",
        "colab": {
          "base_uri": "https://localhost:8080/",
          "height": 142
        },
        "outputId": "e5236a59-54bc-4556-aff5-9c095eab95dc"
      },
      "source": [
        "df[['params','mean_test_score']]"
      ],
      "execution_count": null,
      "outputs": [
        {
          "output_type": "execute_result",
          "data": {
            "text/html": [
              "<div>\n",
              "<style scoped>\n",
              "    .dataframe tbody tr th:only-of-type {\n",
              "        vertical-align: middle;\n",
              "    }\n",
              "\n",
              "    .dataframe tbody tr th {\n",
              "        vertical-align: top;\n",
              "    }\n",
              "\n",
              "    .dataframe thead th {\n",
              "        text-align: right;\n",
              "    }\n",
              "</style>\n",
              "<table border=\"1\" class=\"dataframe\">\n",
              "  <thead>\n",
              "    <tr style=\"text-align: right;\">\n",
              "      <th></th>\n",
              "      <th>params</th>\n",
              "      <th>mean_test_score</th>\n",
              "    </tr>\n",
              "  </thead>\n",
              "  <tbody>\n",
              "    <tr>\n",
              "      <th>0</th>\n",
              "      <td>{'C': 1}</td>\n",
              "      <td>0.943766</td>\n",
              "    </tr>\n",
              "    <tr>\n",
              "      <th>1</th>\n",
              "      <td>{'C': 5}</td>\n",
              "      <td>0.943798</td>\n",
              "    </tr>\n",
              "    <tr>\n",
              "      <th>2</th>\n",
              "      <td>{'C': 10}</td>\n",
              "      <td>0.934964</td>\n",
              "    </tr>\n",
              "  </tbody>\n",
              "</table>\n",
              "</div>"
            ],
            "text/plain": [
              "      params  mean_test_score\n",
              "0   {'C': 1}         0.943766\n",
              "1   {'C': 5}         0.943798\n",
              "2  {'C': 10}         0.934964"
            ]
          },
          "metadata": {
            "tags": []
          },
          "execution_count": 40
        }
      ]
    },
    {
      "cell_type": "code",
      "metadata": {
        "colab": {
          "base_uri": "https://localhost:8080/"
        },
        "id": "6fDT04jcTPc5",
        "outputId": "5150a712-7b3c-4495-e238-ced422595315"
      },
      "source": [
        "reg.best_estimator_"
      ],
      "execution_count": null,
      "outputs": [
        {
          "output_type": "execute_result",
          "data": {
            "text/plain": [
              "LogisticRegression(C=5, class_weight=None, dual=False, fit_intercept=True,\n",
              "                   intercept_scaling=1, l1_ratio=None, max_iter=100,\n",
              "                   multi_class='auto', n_jobs=None, penalty='l2',\n",
              "                   random_state=None, solver='lbfgs', tol=0.0001, verbose=0,\n",
              "                   warm_start=False)"
            ]
          },
          "metadata": {
            "tags": []
          },
          "execution_count": 41
        }
      ]
    },
    {
      "cell_type": "code",
      "metadata": {
        "id": "0Xjmce9KAJxb",
        "colab": {
          "base_uri": "https://localhost:8080/"
        },
        "outputId": "8654e353-5659-4276-bb0d-5cdf8d9d1f0c"
      },
      "source": [
        "reg1=LogisticRegression(C=5, class_weight=None, dual=False,\n",
        "                                          fit_intercept=True,\n",
        "                                          intercept_scaling=1, l1_ratio=None,\n",
        "                                          max_iter=100, multi_class='auto',\n",
        "                                          n_jobs=None, penalty='l2',\n",
        "                                          random_state=None, solver='lbfgs',\n",
        "                                          tol=0.0001, verbose=0,\n",
        "                                          warm_start=False)\n",
        "reg1.fit(x_train,y_train)"
      ],
      "execution_count": null,
      "outputs": [
        {
          "output_type": "execute_result",
          "data": {
            "text/plain": [
              "LogisticRegression(C=5, class_weight=None, dual=False, fit_intercept=True,\n",
              "                   intercept_scaling=1, l1_ratio=None, max_iter=100,\n",
              "                   multi_class='auto', n_jobs=None, penalty='l2',\n",
              "                   random_state=None, solver='lbfgs', tol=0.0001, verbose=0,\n",
              "                   warm_start=False)"
            ]
          },
          "metadata": {
            "tags": []
          },
          "execution_count": 42
        }
      ]
    },
    {
      "cell_type": "code",
      "metadata": {
        "id": "rxDKeyUKDD1g"
      },
      "source": [
        "y_pred2=reg1.predict(x_test)"
      ],
      "execution_count": null,
      "outputs": []
    },
    {
      "cell_type": "code",
      "metadata": {
        "id": "sEPF9ASfDS56",
        "colab": {
          "base_uri": "https://localhost:8080/"
        },
        "outputId": "a7e91d10-213c-4f42-97aa-e71ea076e5a8"
      },
      "source": [
        "reg1.score(x_test,y_test)"
      ],
      "execution_count": null,
      "outputs": [
        {
          "output_type": "execute_result",
          "data": {
            "text/plain": [
              "0.9459459459459459"
            ]
          },
          "metadata": {
            "tags": []
          },
          "execution_count": 44
        }
      ]
    },
    {
      "cell_type": "code",
      "metadata": {
        "id": "8HllOEZxDarh",
        "colab": {
          "base_uri": "https://localhost:8080/"
        },
        "outputId": "ef3c3506-d1e3-4ff4-8800-6877a6e857da"
      },
      "source": [
        "print(classification_report(y_test,y_pred2))"
      ],
      "execution_count": null,
      "outputs": [
        {
          "output_type": "stream",
          "text": [
            "              precision    recall  f1-score   support\n",
            "\n",
            "           0       0.98      0.94      0.96        93\n",
            "           1       0.90      0.96      0.93        55\n",
            "\n",
            "    accuracy                           0.95       148\n",
            "   macro avg       0.94      0.95      0.94       148\n",
            "weighted avg       0.95      0.95      0.95       148\n",
            "\n"
          ],
          "name": "stdout"
        }
      ]
    },
    {
      "cell_type": "code",
      "metadata": {
        "id": "iFvSz3CCErJu",
        "colab": {
          "base_uri": "https://localhost:8080/"
        },
        "outputId": "53976836-a610-4145-d541-181f5abd20cf"
      },
      "source": [
        "print(confusion_matrix(y_test,y_pred2))"
      ],
      "execution_count": null,
      "outputs": [
        {
          "output_type": "stream",
          "text": [
            "[[87  6]\n",
            " [ 2 53]]\n"
          ],
          "name": "stdout"
        }
      ]
    },
    {
      "cell_type": "code",
      "metadata": {
        "colab": {
          "base_uri": "https://localhost:8080/",
          "height": 282
        },
        "id": "oMuWMhZ1aM51",
        "outputId": "2ca14224-f616-4701-df51-2128fd45f47b"
      },
      "source": [
        "sn.heatmap(confusion_matrix(y_test,y_pred2),annot=True)"
      ],
      "execution_count": null,
      "outputs": [
        {
          "output_type": "execute_result",
          "data": {
            "text/plain": [
              "<matplotlib.axes._subplots.AxesSubplot at 0x7fb1977a0510>"
            ]
          },
          "metadata": {
            "tags": []
          },
          "execution_count": 47
        },
        {
          "output_type": "display_data",
          "data": {
            "image/png": "[encoded data removed]",
            "text/plain": [
              "<Figure size 432x288 with 2 Axes>"
            ]
          },
          "metadata": {
            "tags": [],
            "needs_background": "light"
          }
        }
      ]
    }
  ]
}