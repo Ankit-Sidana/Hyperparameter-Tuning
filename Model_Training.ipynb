{
  "nbformat": 4,
  "nbformat_minor": 0,
  "metadata": {
    "colab": {
      "name": "Model_Training.ipynb",
      "provenance": [],
      "collapsed_sections": []
    },
    "kernelspec": {
      "name": "python3",
      "display_name": "Python 3"
    },
    "language_info": {
      "name": "python"
    }
  },
  "cells": [
    {
      "cell_type": "markdown",
      "metadata": {
        "id": "32wChQ0q32Mw"
      },
      "source": [
        "# Training the RandomForest onto to the dataset"
      ]
    },
    {
      "cell_type": "code",
      "metadata": {
        "id": "3FwYFpV84Bx3",
        "colab": {
          "base_uri": "https://localhost:8080/"
        },
        "outputId": "8295d61b-4087-4b53-f512-d9a2db7d3ae3"
      },
      "source": [
        "from sklearn.ensemble import RandomForestClassifier     \n",
        "classifier=RandomForestClassifier(random_state=0)\n",
        "classifier.fit(x_train,y_train)\n",
        "classifier.score(x_test,y_test)"
      ],
      "execution_count": null,
      "outputs": [
        {
          "output_type": "execute_result",
          "data": {
            "text/plain": [
              "0.972972972972973"
            ]
          },
          "metadata": {
            "tags": []
          },
          "execution_count": 17
        }
      ]
    },
    {
      "cell_type": "code",
      "metadata": {
        "id": "fzgTLx9jOgEU"
      },
      "source": [
        "y_predict1=classifier.predict(x_test)"
      ],
      "execution_count": null,
      "outputs": []
    },
    {
      "cell_type": "code",
      "metadata": {
        "id": "AWsVQTjONWZy",
        "colab": {
          "base_uri": "https://localhost:8080/"
        },
        "outputId": "d87840bd-fae4-45c7-d45b-5c739e60455a"
      },
      "source": [
        "from sklearn.metrics import classification_report,confusion_matrix\n",
        "print(classification_report(y_test,y_predict1))"
      ],
      "execution_count": null,
      "outputs": [
        {
          "output_type": "stream",
          "text": [
            "              precision    recall  f1-score   support\n",
            "\n",
            "           0       0.99      0.97      0.98        93\n",
            "           1       0.95      0.98      0.96        55\n",
            "\n",
            "    accuracy                           0.97       148\n",
            "   macro avg       0.97      0.97      0.97       148\n",
            "weighted avg       0.97      0.97      0.97       148\n",
            "\n"
          ],
          "name": "stdout"
        }
      ]
    },
    {
      "cell_type": "code",
      "metadata": {
        "id": "D1AKDguPoM2i",
        "colab": {
          "base_uri": "https://localhost:8080/"
        },
        "outputId": "0322586b-f876-4443-8b0e-42a440577834"
      },
      "source": [
        "print(confusion_matrix(y_test,y_predict1))"
      ],
      "execution_count": null,
      "outputs": [
        {
          "output_type": "stream",
          "text": [
            "[[90  3]\n",
            " [ 1 54]]\n"
          ],
          "name": "stdout"
        }
      ]
    },
    {
      "cell_type": "code",
      "metadata": {
        "colab": {
          "base_uri": "https://localhost:8080/",
          "height": 286
        },
        "id": "-xetb30fSL1G",
        "outputId": "2248dd73-2f66-45ee-a0b1-64acaecbc104"
      },
      "source": [
        "sn.heatmap(confusion_matrix(y_test,y_predict1),annot=True)"
      ],
      "execution_count": null,
      "outputs": [
        {
          "output_type": "execute_result",
          "data": {
            "text/plain": [
              "<matplotlib.axes._subplots.AxesSubplot at 0x7fd0b7b528d0>"
            ]
          },
          "metadata": {
            "tags": []
          },
          "execution_count": 21
        },
        {
          "output_type": "display_data",
          "data": {
            "image/png": "[encoded data removed]",
            "text/plain": [
              "<Figure size 432x288 with 2 Axes>"
            ]
          },
          "metadata": {
            "tags": [],
            "needs_background": "light"
          }
        }
      ]
    },
    {
      "cell_type": "markdown",
      "metadata": {
        "id": "iSVQJWJAW7pZ"
      },
      "source": [
        "# Training Logistic regression onto the dataset"
      ]
    },
    {
      "cell_type": "code",
      "metadata": {
        "id": "iU6-BCb_XCdf",
        "colab": {
          "base_uri": "https://localhost:8080/"
        },
        "outputId": "f0fd4cb1-8235-4e57-d53a-803801bcd7ea"
      },
      "source": [
        "from sklearn.linear_model import LogisticRegression\n",
        "regressor=LogisticRegression(random_state=0,max_iter=171)\n",
        "regressor.fit(x_train,y_train)"
      ],
      "execution_count": null,
      "outputs": [
        {
          "output_type": "execute_result",
          "data": {
            "text/plain": [
              "LogisticRegression(C=1.0, class_weight=None, dual=False, fit_intercept=True,\n",
              "                   intercept_scaling=1, l1_ratio=None, max_iter=171,\n",
              "                   multi_class='auto', n_jobs=None, penalty='l2',\n",
              "                   random_state=0, solver='lbfgs', tol=0.0001, verbose=0,\n",
              "                   warm_start=False)"
            ]
          },
          "metadata": {
            "tags": []
          },
          "execution_count": 24
        }
      ]
    },
    {
      "cell_type": "code",
      "metadata": {
        "id": "OFffEvKMOirC"
      },
      "source": [
        "y_predict2=regressor.predict(x_test)"
      ],
      "execution_count": null,
      "outputs": []
    },
    {
      "cell_type": "code",
      "metadata": {
        "id": "r9J2Dfl1OjEf",
        "colab": {
          "base_uri": "https://localhost:8080/"
        },
        "outputId": "aa8ac694-59c0-4240-e246-43c887f57a51"
      },
      "source": [
        "from sklearn.metrics import classification_report,confusion_matrix\n",
        "print(classification_report(y_test,y_predict2))"
      ],
      "execution_count": null,
      "outputs": [
        {
          "output_type": "stream",
          "text": [
            "              precision    recall  f1-score   support\n",
            "\n",
            "           0       0.99      0.95      0.97        93\n",
            "           1       0.92      0.98      0.95        55\n",
            "\n",
            "    accuracy                           0.96       148\n",
            "   macro avg       0.95      0.96      0.96       148\n",
            "weighted avg       0.96      0.96      0.96       148\n",
            "\n"
          ],
          "name": "stdout"
        }
      ]
    },
    {
      "cell_type": "code",
      "metadata": {
        "id": "8ECktCxnnCqd",
        "colab": {
          "base_uri": "https://localhost:8080/"
        },
        "outputId": "8d8933ab-d2af-41c6-9ef0-c19e564362cd"
      },
      "source": [
        "print(confusion_matrix(y_test,y_predict2))"
      ],
      "execution_count": null,
      "outputs": [
        {
          "output_type": "stream",
          "text": [
            "[[88  5]\n",
            " [ 1 54]]\n"
          ],
          "name": "stdout"
        }
      ]
    },
    {
      "cell_type": "code",
      "metadata": {
        "id": "Ep4dQvkueSVE",
        "colab": {
          "base_uri": "https://localhost:8080/",
          "height": 282
        },
        "outputId": "634fe3d3-ddea-4bfd-e84e-a652a6ebcba3"
      },
      "source": [
        "sn.heatmap(confusion_matrix(y_test,y_predict2),annot=True)"
      ],
      "execution_count": null,
      "outputs": [
        {
          "output_type": "execute_result",
          "data": {
            "text/plain": [
              "<matplotlib.axes._subplots.AxesSubplot at 0x7fd0ae400810>"
            ]
          },
          "metadata": {
            "tags": []
          },
          "execution_count": 28
        },
        {
          "output_type": "display_data",
          "data": {
            "image/png": "[encoded data removed]",
            "text/plain": [
              "<Figure size 432x288 with 2 Axes>"
            ]
          },
          "metadata": {
            "tags": [],
            "needs_background": "light"
          }
        }
      ]
    }
  ]
}